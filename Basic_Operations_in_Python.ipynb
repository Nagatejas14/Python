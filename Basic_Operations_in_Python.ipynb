{
 "cells": [
  {
   "cell_type": "markdown",
   "id": "4a69f7b7-c170-4131-a06d-53ffa9488973",
   "metadata": {},
   "source": [
    "# Basic Operations Performed in python"
   ]
  },
  {
   "cell_type": "code",
   "execution_count": 2,
   "id": "65da6014-4bfc-4ff0-8fed-e98af8e45d84",
   "metadata": {},
   "outputs": [
    {
     "name": "stdout",
     "output_type": "stream",
     "text": [
      "hello world!\n"
     ]
    }
   ],
   "source": [
    "print ('hello world!')"
   ]
  },
  {
   "cell_type": "code",
   "execution_count": 3,
   "id": "b6b4abfd-8a0d-4755-8ef0-79c325351df3",
   "metadata": {},
   "outputs": [
    {
     "name": "stdin",
     "output_type": "stream",
     "text": [
      "Enter the Expression to calculate 3+3\n"
     ]
    },
    {
     "name": "stdout",
     "output_type": "stream",
     "text": [
      "Result:  6\n"
     ]
    }
   ],
   "source": [
    "calc = eval(input(\"Enter the Expression to calculate\"))\n",
    "print('Result: ',calc)"
   ]
  },
  {
   "cell_type": "code",
   "execution_count": 4,
   "id": "547e5dc1-a923-42ac-bc07-4c61bf4c6f03",
   "metadata": {},
   "outputs": [
    {
     "name": "stdin",
     "output_type": "stream",
     "text": [
      "Enter a number:  5\n"
     ]
    },
    {
     "name": "stdout",
     "output_type": "stream",
     "text": [
      "Odd\n"
     ]
    }
   ],
   "source": [
    "number = int(input(\"Enter a number: \"))\n",
    "if number % 2 == 0:\n",
    "    print(\"Even\")\n",
    "else:\n",
    "    print(\"Odd\")\n"
   ]
  },
  {
   "cell_type": "code",
   "execution_count": 5,
   "id": "0c93937b-2670-41d0-82b1-7097637011fa",
   "metadata": {},
   "outputs": [
    {
     "data": {
      "text/plain": [
       "3"
      ]
     },
     "execution_count": 5,
     "metadata": {},
     "output_type": "execute_result"
    }
   ],
   "source": [
    "int(3.99)"
   ]
  },
  {
   "cell_type": "code",
   "execution_count": 6,
   "id": "de3a5ca8-749b-44b2-a2dc-7041c18f27e6",
   "metadata": {},
   "outputs": [
    {
     "data": {
      "text/plain": [
       "5"
      ]
     },
     "execution_count": 6,
     "metadata": {},
     "output_type": "execute_result"
    }
   ],
   "source": [
    "11//2"
   ]
  },
  {
   "cell_type": "code",
   "execution_count": 7,
   "id": "2882bca1-dac1-48c7-b83b-e1de1c17f54d",
   "metadata": {},
   "outputs": [
    {
     "name": "stdout",
     "output_type": "stream",
     "text": [
      "2.0\n"
     ]
    }
   ],
   "source": [
    "x=4\n",
    "x=x/2\n",
    "print(x)"
   ]
  },
  {
   "cell_type": "code",
   "execution_count": 8,
   "id": "599156ac-cc25-493a-b702-bbc49f9d921e",
   "metadata": {},
   "outputs": [
    {
     "name": "stdout",
     "output_type": "stream",
     "text": [
      "5.0\n"
     ]
    }
   ],
   "source": [
    "y = 2*x*x - 3\n",
    "print(y)"
   ]
  },
  {
   "cell_type": "code",
   "execution_count": 9,
   "id": "f16fdc7e-4c23-4110-a83e-ceeb01aa471a",
   "metadata": {},
   "outputs": [
    {
     "name": "stdout",
     "output_type": "stream",
     "text": [
      "4\n"
     ]
    }
   ],
   "source": [
    "x = 2\n",
    "x = x+2\n",
    "print(x)\n"
   ]
  },
  {
   "cell_type": "code",
   "execution_count": 10,
   "id": "07946bf3-8ee2-4407-b6bd-60f261aa502b",
   "metadata": {},
   "outputs": [
    {
     "data": {
      "text/plain": [
       "7"
      ]
     },
     "execution_count": 10,
     "metadata": {},
     "output_type": "execute_result"
    }
   ],
   "source": [
    "3+2*2"
   ]
  },
  {
   "cell_type": "markdown",
   "id": "a97f711c-ae75-4b91-b564-40ce8b259cf9",
   "metadata": {},
   "source": [
    "string operations"
   ]
  },
  {
   "cell_type": "code",
   "execution_count": 12,
   "id": "8745c0e1-9d20-43be-ab88-9971fad40088",
   "metadata": {},
   "outputs": [
    {
     "data": {
      "text/plain": [
       "'tejas'"
      ]
     },
     "execution_count": 12,
     "metadata": {},
     "output_type": "execute_result"
    }
   ],
   "source": [
    "name = \"Nagatejas\"\n",
    "name[4:]"
   ]
  },
  {
   "cell_type": "code",
   "execution_count": 13,
   "id": "58c4cd13-6b4b-47f7-bdb1-1267ecc564b3",
   "metadata": {},
   "outputs": [
    {
     "data": {
      "text/plain": [
       "9"
      ]
     },
     "execution_count": 13,
     "metadata": {},
     "output_type": "execute_result"
    }
   ],
   "source": [
    "len(name)"
   ]
  },
  {
   "cell_type": "code",
   "execution_count": 14,
   "id": "051d59d8-98af-4efb-a293-37c31f0b9276",
   "metadata": {},
   "outputs": [
    {
     "data": {
      "text/plain": [
       "'tejastejastejas'"
      ]
     },
     "execution_count": 14,
     "metadata": {},
     "output_type": "execute_result"
    }
   ],
   "source": [
    "3 * \"tejas\""
   ]
  },
  {
   "cell_type": "code",
   "execution_count": 15,
   "id": "cb3249ad-2d80-4005-8a58-71277fc25d50",
   "metadata": {},
   "outputs": [
    {
     "data": {
      "text/plain": [
       "5"
      ]
     },
     "execution_count": 15,
     "metadata": {},
     "output_type": "execute_result"
    }
   ],
   "source": [
    "name.find(\"ej\")"
   ]
  },
  {
   "cell_type": "code",
   "execution_count": 16,
   "id": "06d58cf2-8079-4e1e-b891-420dbd6fec61",
   "metadata": {},
   "outputs": [
    {
     "name": "stdout",
     "output_type": "stream",
     "text": [
      "my name is Nagatejas\n"
     ]
    }
   ],
   "source": [
    "print(\"my name is {}\".format(name))"
   ]
  },
  {
   "cell_type": "code",
   "execution_count": 17,
   "id": "c527fb61-54bb-4390-b19e-04c3c23f9bba",
   "metadata": {},
   "outputs": [
    {
     "data": {
      "text/plain": [
       "5"
      ]
     },
     "execution_count": 17,
     "metadata": {},
     "output_type": "execute_result"
    }
   ],
   "source": [
    "\"helloMike\".find(\"Mike\")"
   ]
  },
  {
   "cell_type": "code",
   "execution_count": 18,
   "id": "290a8da4-4a12-42bd-8a93-0e924ec69622",
   "metadata": {},
   "outputs": [
    {
     "data": {
      "text/plain": [
       "'s'"
      ]
     },
     "execution_count": 18,
     "metadata": {},
     "output_type": "execute_result"
    }
   ],
   "source": [
    "name1 =\"Micheal Jackson\"\n",
    "name[-1]"
   ]
  },
  {
   "cell_type": "code",
   "execution_count": 19,
   "id": "2bbdda50-b696-41bb-96b7-b21970683349",
   "metadata": {},
   "outputs": [
    {
     "data": {
      "text/plain": [
       "1"
      ]
     },
     "execution_count": 19,
     "metadata": {},
     "output_type": "execute_result"
    }
   ],
   "source": [
    "int(True)"
   ]
  },
  {
   "cell_type": "code",
   "execution_count": 20,
   "id": "34b01e0e-fe2b-46a2-9f08-1fb66a64f110",
   "metadata": {},
   "outputs": [
    {
     "data": {
      "text/plain": [
       "'12'"
      ]
     },
     "execution_count": 20,
     "metadata": {},
     "output_type": "execute_result"
    }
   ],
   "source": [
    "'1'+'2'"
   ]
  },
  {
   "cell_type": "code",
   "execution_count": 21,
   "id": "6a21b61f-1e7c-4ddf-a1d1-e41b9cac1eef",
   "metadata": {},
   "outputs": [
    {
     "data": {
      "text/plain": [
       "'HELLO'"
      ]
     },
     "execution_count": 21,
     "metadata": {},
     "output_type": "execute_result"
    }
   ],
   "source": [
    "'hello'.upper()"
   ]
  },
  {
   "cell_type": "code",
   "execution_count": 22,
   "id": "e86082d8-4b56-4265-91e5-c11fcb2863a6",
   "metadata": {},
   "outputs": [
    {
     "data": {
      "text/plain": [
       "'2'"
      ]
     },
     "execution_count": 22,
     "metadata": {},
     "output_type": "execute_result"
    }
   ],
   "source": [
    "str(1+1)"
   ]
  },
  {
   "cell_type": "code",
   "execution_count": 23,
   "id": "e0f5444f-c31d-4ca9-84cc-c6d1c268e3c8",
   "metadata": {},
   "outputs": [
    {
     "data": {
      "text/plain": [
       "'ab3'"
      ]
     },
     "execution_count": 23,
     "metadata": {},
     "output_type": "execute_result"
    }
   ],
   "source": [
    "\"123\".replace(\"12\",\"ab\")"
   ]
  },
  {
   "cell_type": "code",
   "execution_count": 24,
   "id": "ba922a0b-aa9d-4fa7-a3ce-3dd1d566d0e7",
   "metadata": {},
   "outputs": [
    {
     "data": {
      "text/plain": [
       "float"
      ]
     },
     "execution_count": 24,
     "metadata": {},
     "output_type": "execute_result"
    }
   ],
   "source": [
    "x = 1/1\n",
    "type(x)"
   ]
  },
  {
   "cell_type": "code",
   "execution_count": 25,
   "id": "1e3ab696-b397-4f62-b3ef-8eee99e29146",
   "metadata": {},
   "outputs": [
    {
     "data": {
      "text/plain": [
       "'Python'"
      ]
     },
     "execution_count": 25,
     "metadata": {},
     "output_type": "execute_result"
    }
   ],
   "source": [
    "x = \"Fun Python\"\n",
    "x[4:10]"
   ]
  },
  {
   "cell_type": "markdown",
   "id": "df5236b7-9a69-48db-9498-d48b7177b3a1",
   "metadata": {},
   "source": [
    "lists_in_python"
   ]
  },
  {
   "cell_type": "code",
   "execution_count": 27,
   "id": "3d3e6853-2413-4c3d-a0d8-d3ac15c54c35",
   "metadata": {},
   "outputs": [
    {
     "data": {
      "text/plain": [
       "list"
      ]
     },
     "execution_count": 27,
     "metadata": {},
     "output_type": "execute_result"
    }
   ],
   "source": [
    "x = [1,\"ab\",56.3]\n",
    "type(x)"
   ]
  },
  {
   "cell_type": "code",
   "execution_count": 28,
   "id": "64682659-7b55-4b89-a605-8351a782bf38",
   "metadata": {},
   "outputs": [
    {
     "name": "stdout",
     "output_type": "stream",
     "text": [
      "[1, 'ab', 56.3]\n",
      "[1, 'ab', 56.3, 'hii', 100]\n"
     ]
    }
   ],
   "source": [
    "y= x +[\"hii\", 100]\n",
    "print(x)\n",
    "print(y)"
   ]
  },
  {
   "cell_type": "code",
   "execution_count": 29,
   "id": "26fb7fe1-a77f-40f4-9c80-7c9b595cdcd5",
   "metadata": {},
   "outputs": [
    {
     "name": "stdout",
     "output_type": "stream",
     "text": [
      "[1, 'ab', 56.3, 'hii', 100, 'new', 15]\n"
     ]
    }
   ],
   "source": [
    "y.extend(['new',15])\n",
    "print(y)"
   ]
  },
  {
   "cell_type": "code",
   "execution_count": 30,
   "id": "2a0edd24-3170-48d9-b17b-76eebc1fef7b",
   "metadata": {},
   "outputs": [
    {
     "name": "stdout",
     "output_type": "stream",
     "text": [
      "[1, 'bc', 56.3, 'hii', 100, 'new', 15]\n"
     ]
    }
   ],
   "source": [
    "y[1] = \"bc\"\n",
    "print(y)"
   ]
  },
  {
   "cell_type": "code",
   "execution_count": 31,
   "id": "d6b3519d-b243-4ddd-b9d2-bc49fd82ee78",
   "metadata": {},
   "outputs": [
    {
     "name": "stdout",
     "output_type": "stream",
     "text": [
      "[1, 'bc', 'hii', 100, 'new', 15]\n"
     ]
    }
   ],
   "source": [
    "del(y[2])\n",
    "print(y)"
   ]
  },
  {
   "cell_type": "code",
   "execution_count": 60,
   "id": "1cf03f43-0fa4-4fec-aab8-cd9a2b0ccb2e",
   "metadata": {},
   "outputs": [
    {
     "name": "stdout",
     "output_type": "stream",
     "text": [
      "[1, 2, 5, 9]\n",
      "[9, 5, 2, 1]\n"
     ]
    }
   ],
   "source": [
    "numbers = [5, 2, 9, 1]\n",
    "numbers.sort()\n",
    "print(numbers) \n",
    "numbers.sort(reverse=True)\n",
    "print(numbers) \n"
   ]
  },
  {
   "cell_type": "code",
   "execution_count": null,
   "id": "a80dee49-2287-443f-ba87-7614b92f9097",
   "metadata": {},
   "outputs": [],
   "source": []
  }
 ],
 "metadata": {
  "kernelspec": {
   "display_name": "Python 3 (ipykernel)",
   "language": "python",
   "name": "python3"
  },
  "language_info": {
   "codemirror_mode": {
    "name": "ipython",
    "version": 3
   },
   "file_extension": ".py",
   "mimetype": "text/x-python",
   "name": "python",
   "nbconvert_exporter": "python",
   "pygments_lexer": "ipython3",
   "version": "3.12.4"
  }
 },
 "nbformat": 4,
 "nbformat_minor": 5
}
